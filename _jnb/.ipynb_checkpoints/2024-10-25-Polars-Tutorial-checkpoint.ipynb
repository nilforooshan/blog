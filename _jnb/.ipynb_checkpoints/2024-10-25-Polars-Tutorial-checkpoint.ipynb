{
 "cells": [
  {
   "cell_type": "markdown",
   "metadata": {},
   "source": [
    "[Mohammad Ali Nilforooshan](https://nilforooshan.github.io/blog/)\n",
    "\n",
    "# Polars Tutorial\n",
    "\n",
    "Adopted from https://www.youtube.com/playlist?list=PLINDUevGdb7U_ZRLCpqKWutmcY0vCUFOI\n",
    "\n",
    "See [Polars Tutorial2](https://gist.github.com/nilforooshan/77f7fd0bbf8332460434045829777b24) for more.\n",
    "\n",
    "## Reading CSV Files"
   ]
  },
  {
   "cell_type": "code",
   "execution_count": 1,
   "metadata": {},
   "outputs": [],
   "source": [
    "import polars as pl\n",
    "# df = pl.read_csv('pl_data.csv')"
   ]
  },
  {
   "cell_type": "markdown",
   "metadata": {},
   "source": [
    "## Creating New Columns"
   ]
  },
  {
   "cell_type": "code",
   "execution_count": 2,
   "metadata": {},
   "outputs": [
    {
     "name": "stdout",
     "output_type": "stream",
     "text": [
      "shape: (5, 2)\n",
      "┌───────┬─────┐\n",
      "│ Name  ┆ Age │\n",
      "│ ---   ┆ --- │\n",
      "│ str   ┆ i64 │\n",
      "╞═══════╪═════╡\n",
      "│ Mario ┆ 30  │\n",
      "│ Luigi ┆ 28  │\n",
      "│ Wario ┆ 26  │\n",
      "│ Mario ┆ 30  │\n",
      "│ Mario ┆ 30  │\n",
      "└───────┴─────┘\n"
     ]
    }
   ],
   "source": [
    "df = pl.DataFrame({'Name': ['Mario', 'Luigi', 'Wario', 'Mario', 'Mario'], 'Age': [30,28,26,30,30]})\n",
    "print(df)"
   ]
  },
  {
   "cell_type": "code",
   "execution_count": 3,
   "metadata": {},
   "outputs": [
    {
     "name": "stdout",
     "output_type": "stream",
     "text": [
      "shape: (5, 4)\n",
      "┌───────┬─────┬───────┬──────────┐\n",
      "│ Name  ┆ Age ┆ Score ┆ Score_x2 │\n",
      "│ ---   ┆ --- ┆ ---   ┆ ---      │\n",
      "│ str   ┆ i64 ┆ i64   ┆ i64      │\n",
      "╞═══════╪═════╪═══════╪══════════╡\n",
      "│ Mario ┆ 30  ┆ 95    ┆ 190      │\n",
      "│ Luigi ┆ 28  ┆ 99    ┆ 198      │\n",
      "│ Wario ┆ 26  ┆ 94    ┆ 188      │\n",
      "│ Mario ┆ 30  ┆ 90    ┆ 180      │\n",
      "│ Mario ┆ 30  ┆ 96    ┆ 192      │\n",
      "└───────┴─────┴───────┴──────────┘\n"
     ]
    }
   ],
   "source": [
    "score_values = pl.Series([95,99,94,90,96])\n",
    "df = df.with_columns(Score = pl.lit(score_values),\n",
    "                     Score_x2 = pl.lit(score_values*2))\n",
    "print(df)"
   ]
  },
  {
   "cell_type": "markdown",
   "metadata": {},
   "source": [
    "## Dropping Columns"
   ]
  },
  {
   "cell_type": "code",
   "execution_count": 4,
   "metadata": {},
   "outputs": [
    {
     "name": "stdout",
     "output_type": "stream",
     "text": [
      "shape: (5, 3)\n",
      "┌───────┬─────┬───────┐\n",
      "│ Name  ┆ Age ┆ Score │\n",
      "│ ---   ┆ --- ┆ ---   │\n",
      "│ str   ┆ i64 ┆ i64   │\n",
      "╞═══════╪═════╪═══════╡\n",
      "│ Mario ┆ 30  ┆ 95    │\n",
      "│ Luigi ┆ 28  ┆ 99    │\n",
      "│ Wario ┆ 26  ┆ 94    │\n",
      "│ Mario ┆ 30  ┆ 90    │\n",
      "│ Mario ┆ 30  ┆ 96    │\n",
      "└───────┴─────┴───────┘\n",
      "shape: (5, 2)\n",
      "┌───────┬─────┐\n",
      "│ Name  ┆ Age │\n",
      "│ ---   ┆ --- │\n",
      "│ str   ┆ i64 │\n",
      "╞═══════╪═════╡\n",
      "│ Mario ┆ 30  │\n",
      "│ Luigi ┆ 28  │\n",
      "│ Wario ┆ 26  │\n",
      "│ Mario ┆ 30  │\n",
      "│ Mario ┆ 30  │\n",
      "└───────┴─────┘\n",
      "shape: (5, 2)\n",
      "┌───────┬─────┐\n",
      "│ Name  ┆ Age │\n",
      "│ ---   ┆ --- │\n",
      "│ str   ┆ i64 │\n",
      "╞═══════╪═════╡\n",
      "│ Mario ┆ 30  │\n",
      "│ Luigi ┆ 28  │\n",
      "│ Wario ┆ 26  │\n",
      "│ Mario ┆ 30  │\n",
      "│ Mario ┆ 30  │\n",
      "└───────┴─────┘\n",
      "shape: (5, 3)\n",
      "┌───────┬─────┬───────┐\n",
      "│ Name  ┆ Age ┆ Score │\n",
      "│ ---   ┆ --- ┆ ---   │\n",
      "│ str   ┆ i64 ┆ i64   │\n",
      "╞═══════╪═════╪═══════╡\n",
      "│ Mario ┆ 30  ┆ 95    │\n",
      "│ Luigi ┆ 28  ┆ 99    │\n",
      "│ Wario ┆ 26  ┆ 94    │\n",
      "│ Mario ┆ 30  ┆ 90    │\n",
      "│ Mario ┆ 30  ┆ 96    │\n",
      "└───────┴─────┴───────┘\n"
     ]
    }
   ],
   "source": [
    "print(df.drop('Score_x2'))\n",
    "print(df.drop('Score_x2', 'Score'))\n",
    "print(df.drop(['Score_x2', 'Score']))\n",
    "df.drop_in_place('Score_x2')\n",
    "print(df)"
   ]
  },
  {
   "cell_type": "markdown",
   "metadata": {},
   "source": [
    "## Drop Duplicate Rows"
   ]
  },
  {
   "cell_type": "code",
   "execution_count": 5,
   "metadata": {},
   "outputs": [
    {
     "name": "stdout",
     "output_type": "stream",
     "text": [
      "shape: (3, 2)\n",
      "┌───────┬─────┐\n",
      "│ Name  ┆ Age │\n",
      "│ ---   ┆ --- │\n",
      "│ str   ┆ i64 │\n",
      "╞═══════╪═════╡\n",
      "│ Mario ┆ 30  │\n",
      "│ Luigi ┆ 28  │\n",
      "│ Wario ┆ 26  │\n",
      "└───────┴─────┘\n"
     ]
    }
   ],
   "source": [
    "df = pl.DataFrame({'Name': ['Mario', 'Luigi', 'Wario', 'Mario', 'Mario'], 'Age': [30,28,26,30,30]})\n",
    "print(df.unique())"
   ]
  },
  {
   "cell_type": "markdown",
   "metadata": {},
   "source": [
    "## Iterating Polars Dataframes"
   ]
  },
  {
   "cell_type": "code",
   "execution_count": 6,
   "metadata": {},
   "outputs": [
    {
     "name": "stdout",
     "output_type": "stream",
     "text": [
      "('Mario', 30)\n",
      "Mario\n",
      "('Luigi', 28)\n",
      "Luigi\n",
      "('Wario', 26)\n",
      "Wario\n",
      "('Mario', 30)\n",
      "Mario\n",
      "('Mario', 30)\n",
      "Mario\n"
     ]
    }
   ],
   "source": [
    "for row in df.rows():\n",
    "    print(row)\n",
    "    print(row[0])"
   ]
  },
  {
   "cell_type": "markdown",
   "metadata": {},
   "source": [
    "## Plot Polars Dataframe"
   ]
  },
  {
   "cell_type": "code",
   "execution_count": 7,
   "metadata": {},
   "outputs": [
    {
     "data": {
      "image/png": "[encoded data removed]",
      "text/plain": [
       "<Figure size 640x480 with 1 Axes>"
      ]
     },
     "metadata": {},
     "output_type": "display_data"
    }
   ],
   "source": [
    "import matplotlib.pyplot as plt\n",
    "df = pl.DataFrame({'Date': ['1/1/2023','1/2/2023','1/3/2023','1/4/2023','1/5/2023','1/6/2023','1/7/2023','1/8/2023','1/9/2023','1/10/2023'],\n",
    "                   'Price': [15,16,16,15,14,13,14,17,16,18]})\n",
    "dates = list(df['Date'])\n",
    "prices = list(df['Price'])\n",
    "plt.plot(dates, prices)\n",
    "plt.show()"
   ]
  },
  {
   "cell_type": "markdown",
   "metadata": {},
   "source": [
    "## Converting Polars Dataframe To Pandas\n",
    "\n",
    "This operation requires that both `pandas` and `pyarrow` are installed."
   ]
  },
  {
   "cell_type": "code",
   "execution_count": 8,
   "metadata": {},
   "outputs": [
    {
     "name": "stdout",
     "output_type": "stream",
     "text": [
      "<class 'polars.dataframe.frame.DataFrame'>\n",
      "<class 'pandas.core.frame.DataFrame'>\n",
      "shape: (10, 2)\n",
      "┌───────────┬───────┐\n",
      "│ Date      ┆ Price │\n",
      "│ ---       ┆ ---   │\n",
      "│ str       ┆ i64   │\n",
      "╞═══════════╪═══════╡\n",
      "│ 1/1/2023  ┆ 15    │\n",
      "│ 1/2/2023  ┆ 16    │\n",
      "│ 1/3/2023  ┆ 16    │\n",
      "│ 1/4/2023  ┆ 15    │\n",
      "│ 1/5/2023  ┆ 14    │\n",
      "│ 1/6/2023  ┆ 13    │\n",
      "│ 1/7/2023  ┆ 14    │\n",
      "│ 1/8/2023  ┆ 17    │\n",
      "│ 1/9/2023  ┆ 16    │\n",
      "│ 1/10/2023 ┆ 18    │\n",
      "└───────────┴───────┘\n",
      "        Date  Price\n",
      "0   1/1/2023     15\n",
      "1   1/2/2023     16\n",
      "2   1/3/2023     16\n",
      "3   1/4/2023     15\n",
      "4   1/5/2023     14\n",
      "5   1/6/2023     13\n",
      "6   1/7/2023     14\n",
      "7   1/8/2023     17\n",
      "8   1/9/2023     16\n",
      "9  1/10/2023     18\n"
     ]
    }
   ],
   "source": [
    "x = df.to_pandas()\n",
    "print(type(df))\n",
    "print(type(x))\n",
    "print(df)\n",
    "print(x)"
   ]
  },
  {
   "cell_type": "markdown",
   "metadata": {},
   "source": [
    "## Filtering Polars Dataframes"
   ]
  },
  {
   "cell_type": "code",
   "execution_count": 9,
   "metadata": {},
   "outputs": [
    {
     "name": "stdout",
     "output_type": "stream",
     "text": [
      "shape: (5, 2)\n",
      "┌───────────┬───────┐\n",
      "│ Date      ┆ Price │\n",
      "│ ---       ┆ ---   │\n",
      "│ str       ┆ i64   │\n",
      "╞═══════════╪═══════╡\n",
      "│ 1/2/2023  ┆ 16    │\n",
      "│ 1/3/2023  ┆ 16    │\n",
      "│ 1/8/2023  ┆ 17    │\n",
      "│ 1/9/2023  ┆ 16    │\n",
      "│ 1/10/2023 ┆ 18    │\n",
      "└───────────┴───────┘\n",
      "shape: (3, 2)\n",
      "┌──────────┬───────┐\n",
      "│ Date     ┆ Price │\n",
      "│ ---      ┆ ---   │\n",
      "│ str      ┆ i64   │\n",
      "╞══════════╪═══════╡\n",
      "│ 1/2/2023 ┆ 16    │\n",
      "│ 1/3/2023 ┆ 16    │\n",
      "│ 1/9/2023 ┆ 16    │\n",
      "└──────────┴───────┘\n"
     ]
    }
   ],
   "source": [
    "print(df.filter(df['Price'] > 15))\n",
    "print(df.filter((df['Price'] > 15) & (df['Price'] < 17)))"
   ]
  },
  {
   "cell_type": "markdown",
   "metadata": {},
   "source": [
    "## Joining/merging Polars Dataframes"
   ]
  },
  {
   "cell_type": "code",
   "execution_count": 10,
   "metadata": {},
   "outputs": [
    {
     "name": "stdout",
     "output_type": "stream",
     "text": [
      "shape: (3, 3)\n",
      "┌─────┬────────────┬──────────────────┐\n",
      "│ key ┆ value_left ┆ value_left_right │\n",
      "│ --- ┆ ---        ┆ ---              │\n",
      "│ str ┆ i64        ┆ i64              │\n",
      "╞═════╪════════════╪══════════════════╡\n",
      "│ B   ┆ 2          ┆ 5                │\n",
      "│ C   ┆ 3          ┆ 6                │\n",
      "│ D   ┆ 4          ┆ 7                │\n",
      "└─────┴────────────┴──────────────────┘\n",
      "shape: (4, 3)\n",
      "┌─────┬────────────┬──────────────────┐\n",
      "│ key ┆ value_left ┆ value_left_right │\n",
      "│ --- ┆ ---        ┆ ---              │\n",
      "│ str ┆ i64        ┆ i64              │\n",
      "╞═════╪════════════╪══════════════════╡\n",
      "│ A   ┆ 1          ┆ null             │\n",
      "│ B   ┆ 2          ┆ 5                │\n",
      "│ C   ┆ 3          ┆ 6                │\n",
      "│ D   ┆ 4          ┆ 7                │\n",
      "└─────┴────────────┴──────────────────┘\n"
     ]
    }
   ],
   "source": [
    "df1 = pl.DataFrame({\n",
    "    'key': ['A', 'B', 'C', 'D'],\n",
    "    'value_left': [1, 2, 3, 4]\n",
    "})\n",
    "\n",
    "df2 = pl.DataFrame({\n",
    "    'key': ['B', 'C', 'D', 'E'],\n",
    "    'value_left': [5, 6, 7, 8]\n",
    "})\n",
    "\n",
    "joined_df = df1.join(df2, on = 'key')\n",
    "print(joined_df)\n",
    "joined_df = df1.join(df2, on = 'key', how = 'left')\n",
    "print(joined_df)"
   ]
  },
  {
   "cell_type": "markdown",
   "metadata": {},
   "source": [
    "## Aggregate Data"
   ]
  },
  {
   "cell_type": "code",
   "execution_count": 11,
   "metadata": {},
   "outputs": [
    {
     "name": "stdout",
     "output_type": "stream",
     "text": [
      "shape: (3, 3)\n",
      "┌───────┬──────┬────────┐\n",
      "│ Name  ┆ sum_ ┆ count_ │\n",
      "│ ---   ┆ ---  ┆ ---    │\n",
      "│ str   ┆ i64  ┆ u32    │\n",
      "╞═══════╪══════╪════════╡\n",
      "│ Kyle  ┆ 500  ┆ 2      │\n",
      "│ Chris ┆ 450  ┆ 3      │\n",
      "│ John  ┆ 450  ┆ 2      │\n",
      "└───────┴──────┴────────┘\n"
     ]
    }
   ],
   "source": [
    "df = pl.DataFrame({\n",
    "    'Name': ['Chris', 'Chris', 'Kyle', 'John', 'John', 'Chris', 'Kyle'],\n",
    "    'Calories': [100,200,50,100,350,150,450]\n",
    "})\n",
    "df2 = df.group_by(['Name']).agg(\n",
    "    sum_ = pl.col('Calories').sum(),\n",
    "    count_ = pl.col('Calories').count()\n",
    ")\n",
    "print(df2)"
   ]
  },
  {
   "cell_type": "markdown",
   "metadata": {},
   "source": [
    "## Sorting"
   ]
  },
  {
   "cell_type": "code",
   "execution_count": 12,
   "metadata": {},
   "outputs": [
    {
     "name": "stdout",
     "output_type": "stream",
     "text": [
      "shape: (7, 2)\n",
      "┌───────┬──────────┐\n",
      "│ Name  ┆ Calories │\n",
      "│ ---   ┆ ---      │\n",
      "│ str   ┆ i64      │\n",
      "╞═══════╪══════════╡\n",
      "│ Chris ┆ 100      │\n",
      "│ Chris ┆ 150      │\n",
      "│ Chris ┆ 200      │\n",
      "│ John  ┆ 100      │\n",
      "│ John  ┆ 350      │\n",
      "│ Kyle  ┆ 50       │\n",
      "│ Kyle  ┆ 450      │\n",
      "└───────┴──────────┘\n"
     ]
    }
   ],
   "source": [
    "print(df.sort(['Name', 'Calories']))"
   ]
  },
  {
   "cell_type": "markdown",
   "metadata": {},
   "source": [
    "## Renaming Columns"
   ]
  },
  {
   "cell_type": "code",
   "execution_count": 13,
   "metadata": {},
   "outputs": [
    {
     "name": "stdout",
     "output_type": "stream",
     "text": [
      "shape: (7, 2)\n",
      "┌───────┬─────────────┐\n",
      "│ ID    ┆ Consumption │\n",
      "│ ---   ┆ ---         │\n",
      "│ str   ┆ i64         │\n",
      "╞═══════╪═════════════╡\n",
      "│ Chris ┆ 100         │\n",
      "│ Chris ┆ 200         │\n",
      "│ Kyle  ┆ 50          │\n",
      "│ John  ┆ 100         │\n",
      "│ John  ┆ 350         │\n",
      "│ Chris ┆ 150         │\n",
      "│ Kyle  ┆ 450         │\n",
      "└───────┴─────────────┘\n"
     ]
    }
   ],
   "source": [
    "renamed_col = df.rename({'Name': 'ID', 'Calories': 'Consumption'})\n",
    "print(renamed_col)"
   ]
  },
  {
   "cell_type": "markdown",
   "metadata": {},
   "source": [
    "## Select Columns"
   ]
  },
  {
   "cell_type": "code",
   "execution_count": 14,
   "metadata": {},
   "outputs": [
    {
     "name": "stdout",
     "output_type": "stream",
     "text": [
      "shape: (3, 2)\n",
      "┌───────┬────────┐\n",
      "│ Name  ┆ count_ │\n",
      "│ ---   ┆ ---    │\n",
      "│ str   ┆ u32    │\n",
      "╞═══════╪════════╡\n",
      "│ Kyle  ┆ 2      │\n",
      "│ Chris ┆ 3      │\n",
      "│ John  ┆ 2      │\n",
      "└───────┴────────┘\n"
     ]
    }
   ],
   "source": [
    "print(df2.select(['Name', 'count_']))"
   ]
  },
  {
   "cell_type": "markdown",
   "metadata": {},
   "source": [
    "## Fill/Drop Null Values"
   ]
  },
  {
   "cell_type": "code",
   "execution_count": 15,
   "metadata": {},
   "outputs": [
    {
     "name": "stdout",
     "output_type": "stream",
     "text": [
      "shape: (4, 3)\n",
      "┌────────┬──────┬───────┐\n",
      "│ Name   ┆ Age  ┆ Score │\n",
      "│ ---    ┆ ---  ┆ ---   │\n",
      "│ str    ┆ i64  ┆ i64   │\n",
      "╞════════╪══════╪═══════╡\n",
      "│ John   ┆ 20   ┆ 99    │\n",
      "│ Steven ┆ 25   ┆ null  │\n",
      "│ Chris  ┆ null ┆ 100   │\n",
      "│ null   ┆ 32   ┆ null  │\n",
      "└────────┴──────┴───────┘\n",
      "shape: (4, 3)\n",
      "┌─────────────┬──────┬───────┐\n",
      "│ Name        ┆ Age  ┆ Score │\n",
      "│ ---         ┆ ---  ┆ ---   │\n",
      "│ str         ┆ i64  ┆ i64   │\n",
      "╞═════════════╪══════╪═══════╡\n",
      "│ John        ┆ 20   ┆ 99    │\n",
      "│ Steven      ┆ 25   ┆ null  │\n",
      "│ Chris       ┆ null ┆ 100   │\n",
      "│ NULL_STRING ┆ 32   ┆ null  │\n",
      "└─────────────┴──────┴───────┘\n",
      "shape: (4, 3)\n",
      "┌────────┬─────┬───────┐\n",
      "│ Name   ┆ Age ┆ Score │\n",
      "│ ---    ┆ --- ┆ ---   │\n",
      "│ str    ┆ i64 ┆ i64   │\n",
      "╞════════╪═════╪═══════╡\n",
      "│ John   ┆ 20  ┆ 99    │\n",
      "│ Steven ┆ 25  ┆ 0     │\n",
      "│ Chris  ┆ 0   ┆ 100   │\n",
      "│ null   ┆ 32  ┆ 0     │\n",
      "└────────┴─────┴───────┘\n",
      "shape: (1, 3)\n",
      "┌──────┬─────┬───────┐\n",
      "│ Name ┆ Age ┆ Score │\n",
      "│ ---  ┆ --- ┆ ---   │\n",
      "│ str  ┆ i64 ┆ i64   │\n",
      "╞══════╪═════╪═══════╡\n",
      "│ John ┆ 20  ┆ 99    │\n",
      "└──────┴─────┴───────┘\n",
      "shape: (3, 3)\n",
      "┌────────┬─────┬───────┐\n",
      "│ Name   ┆ Age ┆ Score │\n",
      "│ ---    ┆ --- ┆ ---   │\n",
      "│ str    ┆ i64 ┆ i64   │\n",
      "╞════════╪═════╪═══════╡\n",
      "│ John   ┆ 20  ┆ 99    │\n",
      "│ Steven ┆ 25  ┆ 0     │\n",
      "│ Chris  ┆ 0   ┆ 100   │\n",
      "└────────┴─────┴───────┘\n"
     ]
    }
   ],
   "source": [
    "df = pl.DataFrame({\n",
    "    'Name': ['John', 'Steven', 'Chris', None],\n",
    "    'Age': [20, 25, None, 32],\n",
    "    'Score': [99, None, 100, None]\n",
    "})\n",
    "print(df)\n",
    "fill_df = df.fill_null('NULL_STRING')\n",
    "print(fill_df)\n",
    "fill_df = df.fill_null(0)\n",
    "print(fill_df)\n",
    "print(df.drop_nulls())\n",
    "print(fill_df.drop_nulls())"
   ]
  },
  {
   "cell_type": "markdown",
   "metadata": {},
   "source": [
    "## Convert String To Date"
   ]
  },
  {
   "cell_type": "code",
   "execution_count": 16,
   "metadata": {},
   "outputs": [
    {
     "name": "stdout",
     "output_type": "stream",
     "text": [
      "shape: (10, 3)\n",
      "┌───────────┬───────┬────────────┐\n",
      "│ Date      ┆ Price ┆ Date2      │\n",
      "│ ---       ┆ ---   ┆ ---        │\n",
      "│ str       ┆ i64   ┆ date       │\n",
      "╞═══════════╪═══════╪════════════╡\n",
      "│ 1/1/2023  ┆ 15    ┆ 2023-01-01 │\n",
      "│ 1/2/2023  ┆ 16    ┆ 2023-02-01 │\n",
      "│ 1/3/2023  ┆ 16    ┆ 2023-03-01 │\n",
      "│ 1/4/2023  ┆ 15    ┆ 2023-04-01 │\n",
      "│ 1/5/2023  ┆ 14    ┆ 2023-05-01 │\n",
      "│ 1/6/2023  ┆ 13    ┆ 2023-06-01 │\n",
      "│ 1/7/2023  ┆ 14    ┆ 2023-07-01 │\n",
      "│ 1/8/2023  ┆ 17    ┆ 2023-08-01 │\n",
      "│ 1/9/2023  ┆ 16    ┆ 2023-09-01 │\n",
      "│ 1/10/2023 ┆ 18    ┆ 2023-10-01 │\n",
      "└───────────┴───────┴────────────┘\n",
      "shape: (10, 4)\n",
      "┌───────────┬───────┬────────────┬────────┐\n",
      "│ Date      ┆ Price ┆ Date2      ┆ Date3  │\n",
      "│ ---       ┆ ---   ┆ ---        ┆ ---    │\n",
      "│ str       ┆ i64   ┆ date       ┆ str    │\n",
      "╞═══════════╪═══════╪════════════╪════════╡\n",
      "│ 1/1/2023  ┆ 15    ┆ 2023-01-01 ┆ 012023 │\n",
      "│ 1/2/2023  ┆ 16    ┆ 2023-02-01 ┆ 022023 │\n",
      "│ 1/3/2023  ┆ 16    ┆ 2023-03-01 ┆ 032023 │\n",
      "│ 1/4/2023  ┆ 15    ┆ 2023-04-01 ┆ 042023 │\n",
      "│ 1/5/2023  ┆ 14    ┆ 2023-05-01 ┆ 052023 │\n",
      "│ 1/6/2023  ┆ 13    ┆ 2023-06-01 ┆ 062023 │\n",
      "│ 1/7/2023  ┆ 14    ┆ 2023-07-01 ┆ 072023 │\n",
      "│ 1/8/2023  ┆ 17    ┆ 2023-08-01 ┆ 082023 │\n",
      "│ 1/9/2023  ┆ 16    ┆ 2023-09-01 ┆ 092023 │\n",
      "│ 1/10/2023 ┆ 18    ┆ 2023-10-01 ┆ 102023 │\n",
      "└───────────┴───────┴────────────┴────────┘\n"
     ]
    }
   ],
   "source": [
    "df = pl.DataFrame({'Date': ['1/1/2023','1/2/2023','1/3/2023','1/4/2023','1/5/2023','1/6/2023','1/7/2023','1/8/2023','1/9/2023','1/10/2023'],\n",
    "                   'Price': [15,16,16,15,14,13,14,17,16,18]})\n",
    "df = df.with_columns(Date2 = df['Date'].str.to_date())\n",
    "print(df)\n",
    "df = df.with_columns(Date3 = df['Date2'].dt.strftime('%m%Y'))\n",
    "print(df)"
   ]
  },
  {
   "cell_type": "markdown",
   "metadata": {},
   "source": [
    "## Change Column Data Type"
   ]
  },
  {
   "cell_type": "code",
   "execution_count": 17,
   "metadata": {},
   "outputs": [
    {
     "name": "stdout",
     "output_type": "stream",
     "text": [
      "shape: (10, 4)\n",
      "┌───────────┬───────┬────────────┬────────┐\n",
      "│ Date      ┆ Price ┆ Date2      ┆ Date3  │\n",
      "│ ---       ┆ ---   ┆ ---        ┆ ---    │\n",
      "│ str       ┆ str   ┆ date       ┆ str    │\n",
      "╞═══════════╪═══════╪════════════╪════════╡\n",
      "│ 1/1/2023  ┆ 15    ┆ 2023-01-01 ┆ 012023 │\n",
      "│ 1/2/2023  ┆ 16    ┆ 2023-02-01 ┆ 022023 │\n",
      "│ 1/3/2023  ┆ 16    ┆ 2023-03-01 ┆ 032023 │\n",
      "│ 1/4/2023  ┆ 15    ┆ 2023-04-01 ┆ 042023 │\n",
      "│ 1/5/2023  ┆ 14    ┆ 2023-05-01 ┆ 052023 │\n",
      "│ 1/6/2023  ┆ 13    ┆ 2023-06-01 ┆ 062023 │\n",
      "│ 1/7/2023  ┆ 14    ┆ 2023-07-01 ┆ 072023 │\n",
      "│ 1/8/2023  ┆ 17    ┆ 2023-08-01 ┆ 082023 │\n",
      "│ 1/9/2023  ┆ 16    ┆ 2023-09-01 ┆ 092023 │\n",
      "│ 1/10/2023 ┆ 18    ┆ 2023-10-01 ┆ 102023 │\n",
      "└───────────┴───────┴────────────┴────────┘\n",
      "shape: (10, 4)\n",
      "┌───────────┬───────┬────────────┬────────┐\n",
      "│ Date      ┆ Price ┆ Date2      ┆ Date3  │\n",
      "│ ---       ┆ ---   ┆ ---        ┆ ---    │\n",
      "│ str       ┆ str   ┆ date       ┆ str    │\n",
      "╞═══════════╪═══════╪════════════╪════════╡\n",
      "│ 1/1/2023  ┆ 15    ┆ 2023-01-01 ┆ 012023 │\n",
      "│ 1/2/2023  ┆ 16    ┆ 2023-02-01 ┆ 022023 │\n",
      "│ 1/3/2023  ┆ 16    ┆ 2023-03-01 ┆ 032023 │\n",
      "│ 1/4/2023  ┆ 15    ┆ 2023-04-01 ┆ 042023 │\n",
      "│ 1/5/2023  ┆ 14    ┆ 2023-05-01 ┆ 052023 │\n",
      "│ 1/6/2023  ┆ 13    ┆ 2023-06-01 ┆ 062023 │\n",
      "│ 1/7/2023  ┆ 14    ┆ 2023-07-01 ┆ 072023 │\n",
      "│ 1/8/2023  ┆ 17    ┆ 2023-08-01 ┆ 082023 │\n",
      "│ 1/9/2023  ┆ 16    ┆ 2023-09-01 ┆ 092023 │\n",
      "│ 1/10/2023 ┆ 18    ┆ 2023-10-01 ┆ 102023 │\n",
      "└───────────┴───────┴────────────┴────────┘\n",
      "shape: (10, 4)\n",
      "┌───────────┬───────┬────────────┬────────┐\n",
      "│ Date      ┆ Price ┆ Date2      ┆ Date3  │\n",
      "│ ---       ┆ ---   ┆ ---        ┆ ---    │\n",
      "│ str       ┆ f64   ┆ date       ┆ str    │\n",
      "╞═══════════╪═══════╪════════════╪════════╡\n",
      "│ 1/1/2023  ┆ 15.0  ┆ 2023-01-01 ┆ 012023 │\n",
      "│ 1/2/2023  ┆ 16.0  ┆ 2023-02-01 ┆ 022023 │\n",
      "│ 1/3/2023  ┆ 16.0  ┆ 2023-03-01 ┆ 032023 │\n",
      "│ 1/4/2023  ┆ 15.0  ┆ 2023-04-01 ┆ 042023 │\n",
      "│ 1/5/2023  ┆ 14.0  ┆ 2023-05-01 ┆ 052023 │\n",
      "│ 1/6/2023  ┆ 13.0  ┆ 2023-06-01 ┆ 062023 │\n",
      "│ 1/7/2023  ┆ 14.0  ┆ 2023-07-01 ┆ 072023 │\n",
      "│ 1/8/2023  ┆ 17.0  ┆ 2023-08-01 ┆ 082023 │\n",
      "│ 1/9/2023  ┆ 16.0  ┆ 2023-09-01 ┆ 092023 │\n",
      "│ 1/10/2023 ┆ 18.0  ┆ 2023-10-01 ┆ 102023 │\n",
      "└───────────┴───────┴────────────┴────────┘\n"
     ]
    }
   ],
   "source": [
    "df = df.with_columns(Price = df['Price'].cast(pl.Utf8))\n",
    "print(df)\n",
    "df = df.with_columns(Price = df['Price'].cast(str))\n",
    "print(df)\n",
    "df = df.with_columns(Price = df['Price'].cast(pl.Float64))\n",
    "print(df)"
   ]
  },
  {
   "cell_type": "markdown",
   "metadata": {},
   "source": [
    "## Shift Values"
   ]
  },
  {
   "cell_type": "code",
   "execution_count": 18,
   "metadata": {},
   "outputs": [
    {
     "name": "stdout",
     "output_type": "stream",
     "text": [
      "shape: (10, 5)\n",
      "┌───────────┬───────┬────────────┬────────┬─────────┐\n",
      "│ Date      ┆ Price ┆ Date2      ┆ Date3  ┆ Shifted │\n",
      "│ ---       ┆ ---   ┆ ---        ┆ ---    ┆ ---     │\n",
      "│ str       ┆ f64   ┆ date       ┆ str    ┆ str     │\n",
      "╞═══════════╪═══════╪════════════╪════════╪═════════╡\n",
      "│ 1/1/2023  ┆ 15.0  ┆ 2023-01-01 ┆ 012023 ┆ SHIFTED │\n",
      "│ 1/2/2023  ┆ 16.0  ┆ 2023-02-01 ┆ 022023 ┆ 012023  │\n",
      "│ 1/3/2023  ┆ 16.0  ┆ 2023-03-01 ┆ 032023 ┆ 022023  │\n",
      "│ 1/4/2023  ┆ 15.0  ┆ 2023-04-01 ┆ 042023 ┆ 032023  │\n",
      "│ 1/5/2023  ┆ 14.0  ┆ 2023-05-01 ┆ 052023 ┆ 042023  │\n",
      "│ 1/6/2023  ┆ 13.0  ┆ 2023-06-01 ┆ 062023 ┆ 052023  │\n",
      "│ 1/7/2023  ┆ 14.0  ┆ 2023-07-01 ┆ 072023 ┆ 062023  │\n",
      "│ 1/8/2023  ┆ 17.0  ┆ 2023-08-01 ┆ 082023 ┆ 072023  │\n",
      "│ 1/9/2023  ┆ 16.0  ┆ 2023-09-01 ┆ 092023 ┆ 082023  │\n",
      "│ 1/10/2023 ┆ 18.0  ┆ 2023-10-01 ┆ 102023 ┆ 092023  │\n",
      "└───────────┴───────┴────────────┴────────┴─────────┘\n"
     ]
    }
   ],
   "source": [
    "df = df.with_columns(Shifted = df['Date3'].shift(1)\n",
    "                    .fill_null('SHIFTED'))\n",
    "print(df)"
   ]
  },
  {
   "cell_type": "markdown",
   "metadata": {},
   "source": [
    "## Export Polars Dataframe To CSV\n",
    "\n",
    "There are other file formats you can export the DataFrame into, such as `write_excel` and `write_parquet`."
   ]
  },
  {
   "cell_type": "code",
   "execution_count": 19,
   "metadata": {},
   "outputs": [],
   "source": [
    "# df.write_csv('df.csv')"
   ]
  },
  {
   "cell_type": "markdown",
   "metadata": {},
   "source": [
    "## Read Multi-Sheet Excel File"
   ]
  },
  {
   "cell_type": "code",
   "execution_count": 20,
   "metadata": {},
   "outputs": [],
   "source": [
    "# Read the first sheet.\n",
    "# df = pl.read_excel('data2.xlsx')\n",
    "# Read the second sheet called \"Sheet2\".\n",
    "# df = pl.read_excel('data2.xlsx', sheet_name = 'Sheet2')"
   ]
  },
  {
   "cell_type": "markdown",
   "metadata": {},
   "source": [
    "## Reading Text Files\n",
    "\n",
    "Read a text file with `|` delimited columns."
   ]
  },
  {
   "cell_type": "code",
   "execution_count": 21,
   "metadata": {},
   "outputs": [],
   "source": [
    "# df = pl.read_csv('pipe_sep.txt', seperator = '|')"
   ]
  }
 ],
 "metadata": {
  "kernelspec": {
   "display_name": "Python 3",
   "language": "python",
   "name": "python3"
  },
  "language_info": {
   "codemirror_mode": {
    "name": "ipython",
    "version": 3
   },
   "file_extension": ".py",
   "mimetype": "text/x-python",
   "name": "python",
   "nbconvert_exporter": "python",
   "pygments_lexer": "ipython3",
   "version": "3.8.10"
  }
 },
 "nbformat": 4,
 "nbformat_minor": 5
}
