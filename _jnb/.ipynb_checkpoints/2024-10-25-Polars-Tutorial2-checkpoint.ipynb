{
 "cells": [
  {
   "cell_type": "markdown",
   "metadata": {},
   "source": [
    "[Mohammad Ali Nilforooshan](https://nilforooshan.github.io/blog/)\n",
    "\n",
    "# Polars Tutorial2\n",
    "\n",
    "Most of these commands are derived with the help of ChatGPT or stackoverflow.\n",
    "However, it is easier to look for a command here rather than searching for the answers to these questions over and over again.\n",
    "\n",
    "There might be a few Python examples here not directly related to Polars!\n",
    "\n",
    "## Read `.` as missing value"
   ]
  },
  {
   "cell_type": "code",
   "execution_count": 96,
   "metadata": {},
   "outputs": [],
   "source": [
    "import polars as pl\n",
    "# df = pl.read_csv(\"your_file.csv\", null_values=\".\", has_header = True)"
   ]
  },
  {
   "cell_type": "markdown",
   "metadata": {},
   "source": [
    "## Replace `.` with missing value"
   ]
  },
  {
   "cell_type": "code",
   "execution_count": 97,
   "metadata": {},
   "outputs": [
    {
     "name": "stdout",
     "output_type": "stream",
     "text": [
      "shape: (4, 3)\n",
      "┌───────┬──────┬──────┐\n",
      "│ col1  ┆ col2 ┆ col3 │\n",
      "│ ---   ┆ ---  ┆ ---  │\n",
      "│ str   ┆ i64  ┆ i64  │\n",
      "╞═══════╪══════╪══════╡\n",
      "│ null  ┆ 10   ┆ 1    │\n",
      "│ AB456 ┆ 20   ┆ 2    │\n",
      "│ GK789 ┆ 30   ┆ 3    │\n",
      "│ null  ┆ 40   ┆ 4    │\n",
      "└───────┴──────┴──────┘\n"
     ]
    }
   ],
   "source": [
    "df = pl.DataFrame({\n",
    "    \"col1\": [\".\", \"AB456\", \"GK789\", \".\"],\n",
    "    \"col2\": [10, 20, 30, 40],\n",
    "    \"col3\": [1, 2, 3, 4]\n",
    "})\n",
    "\n",
    "df = df.with_columns(pl.col(pl.String).replace({\".\": None}))\n",
    "\n",
    "print(df)"
   ]
  },
  {
   "cell_type": "markdown",
   "metadata": {},
   "source": [
    "## Get column names"
   ]
  },
  {
   "cell_type": "code",
   "execution_count": 98,
   "metadata": {},
   "outputs": [
    {
     "name": "stdout",
     "output_type": "stream",
     "text": [
      "['col1', 'col2', 'col3']\n",
      "['col2', 'col3']\n",
      "['col1', 'col2']\n"
     ]
    }
   ],
   "source": [
    "df = pl.DataFrame({\n",
    "    \"col1\": [\"GK123\", \"AB456\", \"GK789\", \"CD012\"],\n",
    "    \"col2\": [10, 20, 30, 40],\n",
    "    \"col3\": [1, 2, 3, 4]\n",
    "})\n",
    "\n",
    "print(df.columns)\n",
    "\n",
    "# Get the last two columns\n",
    "print(df.columns[-2:])\n",
    "\n",
    "# Get the first two columns\n",
    "print(df.columns[:2])"
   ]
  },
  {
   "cell_type": "markdown",
   "metadata": {},
   "source": [
    "## Change values in a column based on a condition in another column"
   ]
  },
  {
   "cell_type": "code",
   "execution_count": 99,
   "metadata": {},
   "outputs": [
    {
     "name": "stdout",
     "output_type": "stream",
     "text": [
      "shape: (4, 2)\n",
      "┌───────┬──────┐\n",
      "│ col1  ┆ col2 │\n",
      "│ ---   ┆ ---  │\n",
      "│ str   ┆ i64  │\n",
      "╞═══════╪══════╡\n",
      "│ GK123 ┆ 999  │\n",
      "│ AB456 ┆ 20   │\n",
      "│ GK789 ┆ 999  │\n",
      "│ CD012 ┆ 40   │\n",
      "└───────┴──────┘\n"
     ]
    }
   ],
   "source": [
    "df = pl.DataFrame({\n",
    "    \"col1\": [\"GK123\", \"AB456\", \"GK789\", \"CD012\"],\n",
    "    \"col2\": [10, 20, 30, 40]\n",
    "})\n",
    "\n",
    "# Replace values in 'col2' based on the condition that 'col1' starts with 'GK'\n",
    "df = df.with_columns(\n",
    "    pl.when(pl.col(\"col1\").str.starts_with(\"GK\"))\n",
    "    .then(999)  # Replace with your desired value\n",
    "    .otherwise(pl.col(\"col2\"))  # Keep original value if condition is not met\n",
    "    .alias(\"col2\")\n",
    ")\n",
    "\n",
    "print(df)"
   ]
  },
  {
   "cell_type": "markdown",
   "metadata": {},
   "source": [
    "## Change values in a column based on multiple conditions in another column"
   ]
  },
  {
   "cell_type": "code",
   "execution_count": 100,
   "metadata": {},
   "outputs": [
    {
     "name": "stdout",
     "output_type": "stream",
     "text": [
      "shape: (4, 2)\n",
      "┌───────┬──────┐\n",
      "│ col1  ┆ col2 │\n",
      "│ ---   ┆ ---  │\n",
      "│ str   ┆ i64  │\n",
      "╞═══════╪══════╡\n",
      "│ GK123 ┆ 10   │\n",
      "│ AB456 ┆ 25   │\n",
      "│ GK789 ┆ 999  │\n",
      "│ CD012 ┆ 40   │\n",
      "└───────┴──────┘\n",
      "shape: (4, 2)\n",
      "┌───────┬──────┐\n",
      "│ col1  ┆ col2 │\n",
      "│ ---   ┆ ---  │\n",
      "│ str   ┆ i64  │\n",
      "╞═══════╪══════╡\n",
      "│ GK123 ┆ 20   │\n",
      "│ AB456 ┆ 25   │\n",
      "│ GK789 ┆ 30   │\n",
      "│ CD012 ┆ 80   │\n",
      "└───────┴──────┘\n"
     ]
    }
   ],
   "source": [
    "df = pl.DataFrame({\n",
    "    \"col1\": [\"GK123\", \"AB456\", \"GK789\", \"CD012\"],\n",
    "    \"col2\": [10, 25, 30, 40]\n",
    "})\n",
    "\n",
    "# Replace values in 'col2' based on multiple conditions\n",
    "df = df.with_columns(\n",
    "    pl.when((pl.col(\"col1\").str.starts_with(\"GK\")) & (pl.col(\"col2\") > 20))\n",
    "    .then(999)  # Replace with your desired value\n",
    "    .otherwise(pl.col(\"col2\"))  # Keep original value if conditions are not met\n",
    "    .alias(\"col2\")\n",
    ")\n",
    "\n",
    "print(df)\n",
    "\n",
    "df = pl.DataFrame({\n",
    "    \"col1\": [\"GK123\", \"AB456\", \"GK789\", \"CD012\"],\n",
    "    \"col2\": [10, 25, 30, 40]\n",
    "})\n",
    "\n",
    "df = df.with_columns(\n",
    "    pl.when(pl.col(\"col2\") < 11).then(20)\n",
    "    .when(pl.col(\"col2\") > 33).then(pl.col(\"col2\") * 2)\n",
    "    .otherwise(pl.col(\"col2\"))\n",
    "    .alias(\"col2\")\n",
    ")\n",
    "\n",
    "print(df)"
   ]
  },
  {
   "cell_type": "markdown",
   "metadata": {},
   "source": [
    "## Extract a column into a vector"
   ]
  },
  {
   "cell_type": "code",
   "execution_count": 101,
   "metadata": {},
   "outputs": [
    {
     "name": "stdout",
     "output_type": "stream",
     "text": [
      "['GK123', 'AB456', 'GK789', 'CD012']\n"
     ]
    }
   ],
   "source": [
    "col1_vector = df[\"col1\"].to_list()\n",
    "\n",
    "print(col1_vector)"
   ]
  },
  {
   "cell_type": "markdown",
   "metadata": {},
   "source": [
    "## Extract values meeting a condition from a column"
   ]
  },
  {
   "cell_type": "code",
   "execution_count": 102,
   "metadata": {},
   "outputs": [
    {
     "name": "stdout",
     "output_type": "stream",
     "text": [
      "[2, 3]\n"
     ]
    }
   ],
   "source": [
    "df = pl.DataFrame({\n",
    "    \"col1\": [1, 2, 3],\n",
    "    \"col2\": [4, 5, 6]\n",
    "})\n",
    "\n",
    "# Extract values from 'col1' that are greater than 1\n",
    "filtered_values = df.filter(pl.col(\"col1\") > 1)[\"col1\"].to_list()\n",
    "\n",
    "print(filtered_values)"
   ]
  },
  {
   "cell_type": "markdown",
   "metadata": {},
   "source": [
    "## Get the dimension of the DataFrame"
   ]
  },
  {
   "cell_type": "code",
   "execution_count": 103,
   "metadata": {},
   "outputs": [
    {
     "data": {
      "text/plain": [
       "(3, 2)"
      ]
     },
     "execution_count": 103,
     "metadata": {},
     "output_type": "execute_result"
    }
   ],
   "source": [
    "df.shape"
   ]
  },
  {
   "cell_type": "markdown",
   "metadata": {},
   "source": [
    "## Paste a text string to a range of numbers"
   ]
  },
  {
   "cell_type": "code",
   "execution_count": 104,
   "metadata": {},
   "outputs": [
    {
     "name": "stdout",
     "output_type": "stream",
     "text": [
      "['DK1001', 'DK1002', 'DK1003', 'DK1004', 'DK1005', 'DK1006', 'DK1007', 'DK1008', 'DK1009', 'DK1010']\n",
      "['DK1001', 'DK1002', 'DK1003', 'DK1004', 'DK1005', 'DK1006', 'DK1007', 'DK1008', 'DK1009', 'DK1010']\n"
     ]
    }
   ],
   "source": [
    "# Generate the sequence from 1001 to 1010 and concatenate \"DK\" with each value\n",
    "result = [f\"DK{1000 + i}\" for i in range(1, 11)]\n",
    "\n",
    "print(result)\n",
    "\n",
    "result = [\"DK\" + str(i) for i in range(1001, 1011)]\n",
    "\n",
    "print(result)"
   ]
  },
  {
   "cell_type": "markdown",
   "metadata": {},
   "source": [
    "## Remove Initial characters in a string list"
   ]
  },
  {
   "cell_type": "code",
   "execution_count": 105,
   "metadata": {},
   "outputs": [
    {
     "name": "stdout",
     "output_type": "stream",
     "text": [
      "['123', '456', '789', '012']\n"
     ]
    }
   ],
   "source": [
    "string_list = [\"AB123\", \"CD456\", \"EF789\", \"GH012\"]\n",
    "\n",
    "# Remove the first two characters from each string\n",
    "modified_list = [s[2:] for s in string_list]\n",
    "\n",
    "print(modified_list)"
   ]
  },
  {
   "cell_type": "markdown",
   "metadata": {},
   "source": [
    "## Copy a column into another when a condition is met"
   ]
  },
  {
   "cell_type": "code",
   "execution_count": 106,
   "metadata": {},
   "outputs": [
    {
     "name": "stdout",
     "output_type": "stream",
     "text": [
      "shape: (4, 2)\n",
      "┌───────┬──────┐\n",
      "│ col1  ┆ col2 │\n",
      "│ ---   ┆ ---  │\n",
      "│ str   ┆ i64  │\n",
      "╞═══════╪══════╡\n",
      "│ 10    ┆ 10   │\n",
      "│ AB456 ┆ 20   │\n",
      "│ 30    ┆ 30   │\n",
      "│ CD012 ┆ 40   │\n",
      "└───────┴──────┘\n"
     ]
    }
   ],
   "source": [
    "df = pl.DataFrame({\n",
    "    \"col1\": [\"GK123\", \"AB456\", \"GK789\", \"CD012\"],\n",
    "    \"col2\": [10, 20, 30, 40]\n",
    "})\n",
    "\n",
    "# Copy 'col2' to 'col1' where 'col1' starts with 'GK'\n",
    "df = df.with_columns(\n",
    "    pl.when(pl.col(\"col1\").str.starts_with(\"GK\"))\n",
    "    .then(pl.col(\"col2\"))  # Copy 'col2' value to 'col1'\n",
    "    .otherwise(pl.col(\"col1\"))  # Keep original 'col1' value if condition is not met\n",
    "    .alias(\"col1\")\n",
    ")\n",
    "\n",
    "print(df)"
   ]
  },
  {
   "cell_type": "markdown",
   "metadata": {},
   "source": [
    "## Copy a list into a DataFrame column when a condition is met"
   ]
  },
  {
   "cell_type": "code",
   "execution_count": 107,
   "metadata": {},
   "outputs": [
    {
     "name": "stdout",
     "output_type": "stream",
     "text": [
      "shape: (4, 2)\n",
      "┌───────┬──────┐\n",
      "│ col1  ┆ col2 │\n",
      "│ ---   ┆ ---  │\n",
      "│ str   ┆ i64  │\n",
      "╞═══════╪══════╡\n",
      "│ XY987 ┆ 10   │\n",
      "│ AB456 ┆ 20   │\n",
      "│ XY987 ┆ 30   │\n",
      "│ CD012 ┆ 40   │\n",
      "└───────┴──────┘\n"
     ]
    }
   ],
   "source": [
    "df = pl.DataFrame({\n",
    "    \"col1\": [\"GK123\", \"AB456\", \"GK789\", \"CD012\"],\n",
    "    \"col2\": [10, 20, 30, 40]\n",
    "})\n",
    "\n",
    "new_values = [\"XY987\", \"ZW654\", \"XY987\", \"ZW654\"]\n",
    "\n",
    "# Copy 'new_values' to 'col1' where 'col1' starts with 'GK'\n",
    "df = df.with_columns(\n",
    "    pl.when(pl.col(\"col1\").str.starts_with(\"GK\"))\n",
    "    .then(pl.Series(new_values))  # Assign new values with the same shape\n",
    "    .otherwise(pl.col(\"col1\"))\n",
    "    .alias(\"col1\")\n",
    ")\n",
    "\n",
    "print(df)"
   ]
  },
  {
   "cell_type": "markdown",
   "metadata": {},
   "source": [
    "## Copy a list into a column"
   ]
  },
  {
   "cell_type": "code",
   "execution_count": 108,
   "metadata": {},
   "outputs": [
    {
     "name": "stdout",
     "output_type": "stream",
     "text": [
      "shape: (4, 2)\n",
      "┌───────┬──────┐\n",
      "│ col1  ┆ col2 │\n",
      "│ ---   ┆ ---  │\n",
      "│ str   ┆ i64  │\n",
      "╞═══════╪══════╡\n",
      "│ XY987 ┆ 10   │\n",
      "│ ZW654 ┆ 20   │\n",
      "│ XY987 ┆ 30   │\n",
      "│ ZW654 ┆ 40   │\n",
      "└───────┴──────┘\n",
      "shape: (4, 2)\n",
      "┌───────┬──────┐\n",
      "│ col1  ┆ col2 │\n",
      "│ ---   ┆ ---  │\n",
      "│ str   ┆ i64  │\n",
      "╞═══════╪══════╡\n",
      "│ XY987 ┆ 10   │\n",
      "│ ZW654 ┆ 20   │\n",
      "│ XY987 ┆ 30   │\n",
      "│ ZW654 ┆ 40   │\n",
      "└───────┴──────┘\n"
     ]
    }
   ],
   "source": [
    "df = df.with_columns(pl.Series(\"col1\", new_values))\n",
    "\n",
    "print(df)\n",
    "\n",
    "df = pl.DataFrame({\n",
    "    \"col1\": [\"GK123\", \"AB456\", \"GK789\", \"CD012\"],\n",
    "    \"col2\": [10, 20, 30, 40]\n",
    "})\n",
    "\n",
    "df = df.with_columns(col1 = pl.lit(pl.Series(new_values)))\n",
    "\n",
    "print(df)"
   ]
  },
  {
   "cell_type": "markdown",
   "metadata": {},
   "source": [
    "## Copy row-sums (`rowSums`) of columns \"a\" and \"b\" into column \"a\""
   ]
  },
  {
   "cell_type": "code",
   "execution_count": 109,
   "metadata": {},
   "outputs": [
    {
     "name": "stdout",
     "output_type": "stream",
     "text": [
      "shape: (3, 2)\n",
      "┌─────┬─────┐\n",
      "│ a   ┆ b   │\n",
      "│ --- ┆ --- │\n",
      "│ i64 ┆ i64 │\n",
      "╞═════╪═════╡\n",
      "│ 5   ┆ 4   │\n",
      "│ 7   ┆ 5   │\n",
      "│ 9   ┆ 6   │\n",
      "└─────┴─────┘\n"
     ]
    }
   ],
   "source": [
    "df = pl.DataFrame({\n",
    "    \"a\": [1, 2, 3],\n",
    "    \"b\": [4, 5, 6]\n",
    "})\n",
    "\n",
    "# Compute the row-wise sum of columns \"a\" and \"b\" and store it in column \"a\"\n",
    "df = df.with_columns(\n",
    "    (pl.col(\"a\") + pl.col(\"b\")).alias(\"a\")\n",
    ")\n",
    "\n",
    "print(df)"
   ]
  },
  {
   "cell_type": "markdown",
   "metadata": {},
   "source": [
    "## Drop columns with the column name ending with a pattern"
   ]
  },
  {
   "cell_type": "code",
   "execution_count": 110,
   "metadata": {},
   "outputs": [
    {
     "name": "stdout",
     "output_type": "stream",
     "text": [
      "shape: (3, 2)\n",
      "┌──────┬──────┐\n",
      "│ col1 ┆ col3 │\n",
      "│ ---  ┆ ---  │\n",
      "│ i64  ┆ i64  │\n",
      "╞══════╪══════╡\n",
      "│ 1    ┆ 7    │\n",
      "│ 2    ┆ 8    │\n",
      "│ 3    ┆ 9    │\n",
      "└──────┴──────┘\n"
     ]
    }
   ],
   "source": [
    "df = pl.DataFrame({\n",
    "    \"col1\": [1, 2, 3],\n",
    "    \"col2_right\": [4, 5, 6],\n",
    "    \"col3\": [7, 8, 9],\n",
    "    \"col4_right\": [10, 11, 12]\n",
    "})\n",
    "\n",
    "# Drop columns that end with \"_right\"\n",
    "df = df.select([col for col in df.columns if not col.endswith(\"_right\")])\n",
    "\n",
    "print(df)"
   ]
  },
  {
   "cell_type": "markdown",
   "metadata": {},
   "source": [
    "## Rename columns with the column name ending with a pattern"
   ]
  },
  {
   "cell_type": "code",
   "execution_count": 111,
   "metadata": {},
   "outputs": [
    {
     "name": "stdout",
     "output_type": "stream",
     "text": [
      "shape: (3, 4)\n",
      "┌──────┬─────┬──────┬─────┐\n",
      "│ col1 ┆ d1  ┆ col3 ┆ d2  │\n",
      "│ ---  ┆ --- ┆ ---  ┆ --- │\n",
      "│ i64  ┆ i64 ┆ i64  ┆ i64 │\n",
      "╞══════╪═════╪══════╪═════╡\n",
      "│ 1    ┆ 4   ┆ 7    ┆ 10  │\n",
      "│ 2    ┆ 5   ┆ 8    ┆ 11  │\n",
      "│ 3    ┆ 6   ┆ 9    ┆ 12  │\n",
      "└──────┴─────┴──────┴─────┘\n",
      "shape: (3, 4)\n",
      "┌──────┬───────┬──────┬───────┐\n",
      "│ col1 ┆ dcol2 ┆ col3 ┆ dcol4 │\n",
      "│ ---  ┆ ---   ┆ ---  ┆ ---   │\n",
      "│ i64  ┆ i64   ┆ i64  ┆ i64   │\n",
      "╞══════╪═══════╪══════╪═══════╡\n",
      "│ 1    ┆ 4     ┆ 7    ┆ 10    │\n",
      "│ 2    ┆ 5     ┆ 8    ┆ 11    │\n",
      "│ 3    ┆ 6     ┆ 9    ┆ 12    │\n",
      "└──────┴───────┴──────┴───────┘\n"
     ]
    }
   ],
   "source": [
    "df = pl.DataFrame({\n",
    "    \"col1\": [1, 2, 3],\n",
    "    \"col2_right\": [4, 5, 6],\n",
    "    \"col3\": [7, 8, 9],\n",
    "    \"col4_right\": [10, 11, 12]\n",
    "})\n",
    "\n",
    "# Rename columns ending with \"_right\" to \"d*\" (d1, d2, ...)\n",
    "new_names = {}\n",
    "counter = 1\n",
    "\n",
    "for col in df.columns:\n",
    "    if col.endswith(\"_right\"):\n",
    "        new_names[col] = f\"d{counter}\"\n",
    "        counter += 1\n",
    "\n",
    "# Apply the renaming\n",
    "df = df.rename(new_names)\n",
    "\n",
    "print(df)\n",
    "\n",
    "df = pl.DataFrame({\n",
    "    \"col1\": [1, 2, 3],\n",
    "    \"col2_right\": [4, 5, 6],\n",
    "    \"col3\": [7, 8, 9],\n",
    "    \"col4_right\": [10, 11, 12]\n",
    "})\n",
    "\n",
    "# Create a dictionary to hold the renaming mappings\n",
    "new_names = {}\n",
    "\n",
    "# Iterate through the columns and rename those ending with \"_right\"\n",
    "for col in df.columns:\n",
    "    if col.endswith(\"_right\"):\n",
    "        # Extract the part before \"_right\" and prepend \"d\"\n",
    "        base_name = col.split(\"_right\")[0]\n",
    "        new_names[col] = f\"d{base_name}\"\n",
    "\n",
    "# Apply the renaming\n",
    "df = df.rename(new_names)\n",
    "\n",
    "print(df)"
   ]
  },
  {
   "cell_type": "markdown",
   "metadata": {},
   "source": [
    "## Rename columns based on column index"
   ]
  },
  {
   "cell_type": "code",
   "execution_count": 112,
   "metadata": {},
   "outputs": [
    {
     "name": "stdout",
     "output_type": "stream",
     "text": [
      "shape: (3, 3)\n",
      "┌─────────┬──────┬───────────┐\n",
      "│ col1    ┆ col2 ┆ original3 │\n",
      "│ ---     ┆ ---  ┆ ---       │\n",
      "│ str     ┆ i64  ┆ i64       │\n",
      "╞═════════╪══════╪═══════════╡\n",
      "│ 123-456 ┆ 1    ┆ 10        │\n",
      "│ 789-012 ┆ 2    ┆ 20        │\n",
      "│ 345-678 ┆ 3    ┆ 30        │\n",
      "└─────────┴──────┴───────────┘\n"
     ]
    }
   ],
   "source": [
    "df = pl.DataFrame({\n",
    "    \"original1\": [\"123-456\", \"789-012\", \"345-678\"],\n",
    "    \"original2\": [1, 2, 3],\n",
    "    \"original3\": [10, 20, 30]\n",
    "})\n",
    "\n",
    "# Get the first two column names\n",
    "old_names = df.columns[:2]\n",
    "\n",
    "# New names for the first two columns\n",
    "new_names = [\"col1\", \"col2\"]\n",
    "\n",
    "# Rename the first two columns\n",
    "df = df.rename({old_names[0]: new_names[0], old_names[1]: new_names[1]})\n",
    "\n",
    "print(df)"
   ]
  },
  {
   "cell_type": "markdown",
   "metadata": {},
   "source": [
    "## Rename all columns with a list"
   ]
  },
  {
   "cell_type": "code",
   "execution_count": 113,
   "metadata": {},
   "outputs": [
    {
     "name": "stdout",
     "output_type": "stream",
     "text": [
      "shape: (3, 3)\n",
      "┌───────────┬───────────┬───────────┐\n",
      "│ new_name1 ┆ new_name2 ┆ new_name3 │\n",
      "│ ---       ┆ ---       ┆ ---       │\n",
      "│ i64       ┆ i64       ┆ i64       │\n",
      "╞═══════════╪═══════════╪═══════════╡\n",
      "│ 1         ┆ 4         ┆ 7         │\n",
      "│ 2         ┆ 5         ┆ 8         │\n",
      "│ 3         ┆ 6         ┆ 9         │\n",
      "└───────────┴───────────┴───────────┘\n"
     ]
    }
   ],
   "source": [
    "df = pl.DataFrame({\n",
    "    \"old_name1\": [1, 2, 3],\n",
    "    \"old_name2\": [4, 5, 6],\n",
    "    \"old_name3\": [7, 8, 9]\n",
    "})\n",
    "\n",
    "# List of new column names\n",
    "new_column_names = [\"new_name1\", \"new_name2\", \"new_name3\"]\n",
    "\n",
    "# Rename all columns\n",
    "df = df.rename({old: new for old, new in zip(df.columns, new_column_names)})\n",
    "\n",
    "print(df)"
   ]
  },
  {
   "cell_type": "markdown",
   "metadata": {},
   "source": [
    "## The difference between `.str.replace` and `.str.replace_all`"
   ]
  },
  {
   "cell_type": "code",
   "execution_count": 114,
   "metadata": {},
   "outputs": [
    {
     "name": "stdout",
     "output_type": "stream",
     "text": [
      "shape: (3, 2)\n",
      "┌───────────┬──────┐\n",
      "│ col1      ┆ col2 │\n",
      "│ ---       ┆ ---  │\n",
      "│ str       ┆ i64  │\n",
      "╞═══════════╪══════╡\n",
      "│ 123456-34 ┆ 1    │\n",
      "│ 789012-78 ┆ 2    │\n",
      "│ 345678-02 ┆ 3    │\n",
      "└───────────┴──────┘\n",
      "shape: (3, 2)\n",
      "┌────────┬──────┐\n",
      "│ col1   ┆ col2 │\n",
      "│ ---    ┆ ---  │\n",
      "│ str    ┆ i64  │\n",
      "╞════════╪══════╡\n",
      "│ 123456 ┆ 1    │\n",
      "│ 789012 ┆ 2    │\n",
      "│ 345678 ┆ 3    │\n",
      "└────────┴──────┘\n"
     ]
    }
   ],
   "source": [
    "df = pl.DataFrame({\n",
    "    \"col1\": [\"123-456-34\", \"789-012-78\", \"345-678-02\"],\n",
    "    \"col2\": [1, 2, 3]\n",
    "})\n",
    "\n",
    "# Replace \"-\" with \"\" in the \"col1\" column\n",
    "df = df.with_columns(\n",
    "    pl.col(\"col1\").str.replace(\"-\", \"\").alias(\"col1\")\n",
    ")\n",
    "\n",
    "print(df)\n",
    "\n",
    "df = pl.DataFrame({\n",
    "    \"col1\": [\"123-456\", \"789-012\", \"345-678\"],\n",
    "    \"col2\": [1, 2, 3]\n",
    "})\n",
    "\n",
    "# Replace \"-\" with \"\" in the \"col1\" column\n",
    "df = df.with_columns(\n",
    "    pl.col(\"col1\").str.replace_all(\"-\", \"\").alias(\"col1\")\n",
    ")\n",
    "\n",
    "print(df)"
   ]
  },
  {
   "cell_type": "markdown",
   "metadata": {},
   "source": [
    "## Read specific columns from a CSV file"
   ]
  },
  {
   "cell_type": "code",
   "execution_count": 115,
   "metadata": {},
   "outputs": [],
   "source": [
    "# df = pl.read_csv(\"data.csv\", columns=[0, 2])"
   ]
  },
  {
   "cell_type": "markdown",
   "metadata": {},
   "source": [
    "## Replace null with 0 in the last two columns"
   ]
  },
  {
   "cell_type": "code",
   "execution_count": 116,
   "metadata": {},
   "outputs": [
    {
     "name": "stdout",
     "output_type": "stream",
     "text": [
      "shape: (3, 3)\n",
      "┌──────┬──────┬──────┐\n",
      "│ col1 ┆ col2 ┆ col3 │\n",
      "│ ---  ┆ ---  ┆ ---  │\n",
      "│ i64  ┆ i64  ┆ i64  │\n",
      "╞══════╪══════╪══════╡\n",
      "│ 1    ┆ 0    ┆ 7    │\n",
      "│ 2    ┆ 5    ┆ 0    │\n",
      "│ 3    ┆ 0    ┆ 9    │\n",
      "└──────┴──────┴──────┘\n"
     ]
    }
   ],
   "source": [
    "df = pl.DataFrame({\n",
    "    \"col1\": [1, 2, 3],\n",
    "    \"col2\": [None, 5, None],\n",
    "    \"col3\": [7, None, 9]\n",
    "})\n",
    "\n",
    "# Replace null with 0 in the last two columns\n",
    "df = df.with_columns(\n",
    "    [pl.col(df.columns[-2:]).fill_null(0)]\n",
    ")\n",
    "\n",
    "print(df)"
   ]
  },
  {
   "cell_type": "markdown",
   "metadata": {},
   "source": [
    "## Drop the first two characters from all elements in a DataFrame"
   ]
  },
  {
   "cell_type": "code",
   "execution_count": 117,
   "metadata": {},
   "outputs": [
    {
     "name": "stdout",
     "output_type": "stream",
     "text": [
      "shape: (3, 2)\n",
      "┌──────┬──────┐\n",
      "│ col1 ┆ col2 │\n",
      "│ ---  ┆ ---  │\n",
      "│ str  ┆ str  │\n",
      "╞══════╪══════╡\n",
      "│ 123  ┆ 001  │\n",
      "│ 456  ┆ 002  │\n",
      "│ 789  ┆ 003  │\n",
      "└──────┴──────┘\n",
      "shape: (3, 2)\n",
      "┌──────┬──────┐\n",
      "│ col1 ┆ col2 │\n",
      "│ ---  ┆ ---  │\n",
      "│ i64  ┆ i64  │\n",
      "╞══════╪══════╡\n",
      "│ 123  ┆ 1    │\n",
      "│ 456  ┆ 2    │\n",
      "│ 789  ┆ 3    │\n",
      "└──────┴──────┘\n"
     ]
    }
   ],
   "source": [
    "df = pl.DataFrame({\n",
    "    \"col1\": [\"ab123\", \"ab456\", \"ab789\"],\n",
    "    \"col2\": [\"cd001\", \"cd002\", \"cd003\"]\n",
    "})\n",
    "\n",
    "# Drop the first two characters from all elements in the DataFrame\n",
    "df = df.with_columns(\n",
    "    [pl.col(c).str.slice(2) for c in df.columns]\n",
    ")\n",
    "\n",
    "print(df)\n",
    "\n",
    "# Now, do the same, but turn the resulting elements into integers.\n",
    "\n",
    "df = pl.DataFrame({\n",
    "    \"col1\": [\"ab123\", \"ab456\", \"ab789\"],\n",
    "    \"col2\": [\"cd001\", \"cd002\", \"cd003\"]\n",
    "})\n",
    "\n",
    "# Drop the first two characters and convert the remaining strings to integers\n",
    "df = df.with_columns(\n",
    "    [pl.col(c).str.slice(2).cast(pl.Int64) for c in df.columns]\n",
    ")\n",
    "\n",
    "print(df)"
   ]
  },
  {
   "cell_type": "markdown",
   "metadata": {},
   "source": [
    "## Drop a column by its index nmber"
   ]
  },
  {
   "cell_type": "code",
   "execution_count": 118,
   "metadata": {},
   "outputs": [
    {
     "name": "stdout",
     "output_type": "stream",
     "text": [
      "shape: (3, 2)\n",
      "┌──────┬──────┐\n",
      "│ col2 ┆ col3 │\n",
      "│ ---  ┆ ---  │\n",
      "│ i64  ┆ i64  │\n",
      "╞══════╪══════╡\n",
      "│ 4    ┆ 7    │\n",
      "│ 5    ┆ 8    │\n",
      "│ 6    ┆ 9    │\n",
      "└──────┴──────┘\n"
     ]
    }
   ],
   "source": [
    "df = pl.DataFrame({\n",
    "    \"col1\": [1, 2, 3],\n",
    "    \"col2\": [4, 5, 6],\n",
    "    \"col3\": [7, 8, 9]\n",
    "})\n",
    "\n",
    "# Drop the first column by its index (0)\n",
    "df = df.drop(df.columns[0])\n",
    "\n",
    "print(df)"
   ]
  },
  {
   "cell_type": "markdown",
   "metadata": {},
   "source": [
    "## Reorder columns"
   ]
  },
  {
   "cell_type": "code",
   "execution_count": 119,
   "metadata": {},
   "outputs": [
    {
     "data": {
      "text/html": [
       "<div><style>\n",
       ".dataframe > thead > tr,\n",
       ".dataframe > tbody > tr {\n",
       "  text-align: right;\n",
       "  white-space: pre-wrap;\n",
       "}\n",
       "</style>\n",
       "<small>shape: (3, 2)</small><table border=\"1\" class=\"dataframe\"><thead><tr><th>col3</th><th>col2</th></tr><tr><td>i64</td><td>i64</td></tr></thead><tbody><tr><td>7</td><td>4</td></tr><tr><td>8</td><td>5</td></tr><tr><td>9</td><td>6</td></tr></tbody></table></div>"
      ],
      "text/plain": [
       "shape: (3, 2)\n",
       "┌──────┬──────┐\n",
       "│ col3 ┆ col2 │\n",
       "│ ---  ┆ ---  │\n",
       "│ i64  ┆ i64  │\n",
       "╞══════╪══════╡\n",
       "│ 7    ┆ 4    │\n",
       "│ 8    ┆ 5    │\n",
       "│ 9    ┆ 6    │\n",
       "└──────┴──────┘"
      ]
     },
     "execution_count": 119,
     "metadata": {},
     "output_type": "execute_result"
    }
   ],
   "source": [
    "df.select(['col3', 'col2'])"
   ]
  },
  {
   "cell_type": "code",
   "execution_count": 120,
   "metadata": {},
   "outputs": [
    {
     "data": {
      "text/html": [
       "<div><style>\n",
       ".dataframe > thead > tr,\n",
       ".dataframe > tbody > tr {\n",
       "  text-align: right;\n",
       "  white-space: pre-wrap;\n",
       "}\n",
       "</style>\n",
       "<small>shape: (3, 2)</small><table border=\"1\" class=\"dataframe\"><thead><tr><th>col3</th><th>col2</th></tr><tr><td>i64</td><td>i64</td></tr></thead><tbody><tr><td>7</td><td>4</td></tr><tr><td>8</td><td>5</td></tr><tr><td>9</td><td>6</td></tr></tbody></table></div>"
      ],
      "text/plain": [
       "shape: (3, 2)\n",
       "┌──────┬──────┐\n",
       "│ col3 ┆ col2 │\n",
       "│ ---  ┆ ---  │\n",
       "│ i64  ┆ i64  │\n",
       "╞══════╪══════╡\n",
       "│ 7    ┆ 4    │\n",
       "│ 8    ┆ 5    │\n",
       "│ 9    ┆ 6    │\n",
       "└──────┴──────┘"
      ]
     },
     "execution_count": 120,
     "metadata": {},
     "output_type": "execute_result"
    }
   ],
   "source": [
    "df.select([pl.col('col3'), pl.col('col2')])"
   ]
  },
  {
   "cell_type": "markdown",
   "metadata": {},
   "source": [
    "## Reorder DataFrame's rows by matching a column with a list"
   ]
  },
  {
   "cell_type": "code",
   "execution_count": 121,
   "metadata": {},
   "outputs": [
    {
     "name": "stdout",
     "output_type": "stream",
     "text": [
      "shape: (5, 2)\n",
      "┌──────┬──────┐\n",
      "│ col1 ┆ col2 │\n",
      "│ ---  ┆ ---  │\n",
      "│ str  ┆ i64  │\n",
      "╞══════╪══════╡\n",
      "│ a    ┆ 3    │\n",
      "│ b    ┆ 1    │\n",
      "│ c    ┆ 2    │\n",
      "│ d    ┆ 5    │\n",
      "│ e    ┆ 4    │\n",
      "└──────┴──────┘\n",
      "shape: (5, 2)\n",
      "┌──────┬──────┐\n",
      "│ col1 ┆ col2 │\n",
      "│ ---  ┆ ---  │\n",
      "│ str  ┆ i64  │\n",
      "╞══════╪══════╡\n",
      "│ a    ┆ 3    │\n",
      "│ b    ┆ 1    │\n",
      "│ c    ┆ 2    │\n",
      "│ d    ┆ 5    │\n",
      "│ e    ┆ 4    │\n",
      "└──────┴──────┘\n"
     ]
    }
   ],
   "source": [
    "df = pl.DataFrame({\n",
    "    \"col1\": [\"b\", \"c\", \"a\", \"e\", \"d\"],\n",
    "    \"col2\": [1, 2, 3, 4, 5]\n",
    "})\n",
    "\n",
    "# The desired order for \"col1\"\n",
    "desired_order = [\"a\", \"b\", \"c\", \"d\", \"e\"]\n",
    "\n",
    "# Reorder the DataFrame by matching \"col1\" with the desired_order list\n",
    "df_reordered = df.with_columns(\n",
    "    pl.col(\"col1\").map_elements(lambda x: desired_order.index(x), return_dtype=pl.Int64).alias(\"sort_key\")\n",
    ").sort(\"sort_key\").drop(\"sort_key\")\n",
    "\n",
    "print(df_reordered)\n",
    "\n",
    "# or\n",
    "\n",
    "df_reordered = df.join(pl.DataFrame({\"col1\": desired_order}), on = \"col1\")\n",
    "\n",
    "print(df_reordered)"
   ]
  },
  {
   "cell_type": "markdown",
   "metadata": {},
   "source": [
    "## Filter the DataFrame for elements containing a pattern in a column"
   ]
  },
  {
   "cell_type": "code",
   "execution_count": 122,
   "metadata": {},
   "outputs": [
    {
     "name": "stdout",
     "output_type": "stream",
     "text": [
      "shape: (2, 2)\n",
      "┌────────┬──────┐\n",
      "│ col1   ┆ col2 │\n",
      "│ ---    ┆ ---  │\n",
      "│ str    ┆ i64  │\n",
      "╞════════╪══════╡\n",
      "│ abc123 ┆ 1    │\n",
      "│ abcxyz ┆ 4    │\n",
      "└────────┴──────┘\n"
     ]
    }
   ],
   "source": [
    "df = pl.DataFrame({\n",
    "    \"col1\": [\"abc123\", \"def456\", \"ghi789\", \"abcxyz\"],\n",
    "    \"col2\": [1, 2, 3, 4]\n",
    "})\n",
    "\n",
    "# Filter rows where \"col1\" contains the pattern \"abc\"\n",
    "filtered_df = df.filter(pl.col(\"col1\").str.contains(\"abc\"))\n",
    "\n",
    "print(filtered_df)"
   ]
  },
  {
   "cell_type": "markdown",
   "metadata": {},
   "source": [
    "## Compute the dot/inner product (crossproduct) between two Series"
   ]
  },
  {
   "cell_type": "code",
   "execution_count": 123,
   "metadata": {},
   "outputs": [
    {
     "data": {
      "text/plain": [
       "32.0"
      ]
     },
     "execution_count": 123,
     "metadata": {},
     "output_type": "execute_result"
    }
   ],
   "source": [
    "s = pl.Series(\"a\", [1, 2, 3])\n",
    "s2 = pl.Series(\"b\", [4.0, 5.0, 6.0])\n",
    "s.dot(s2)"
   ]
  },
  {
   "cell_type": "markdown",
   "metadata": {},
   "source": [
    "## Extract rows of a DataFrame in a list of tuples"
   ]
  },
  {
   "cell_type": "code",
   "execution_count": 124,
   "metadata": {},
   "outputs": [
    {
     "name": "stdout",
     "output_type": "stream",
     "text": [
      "[('abc123', 1), ('def456', 2), ('ghi789', 3), ('abcxyz', 4)]\n"
     ]
    }
   ],
   "source": [
    "print(df.rows())"
   ]
  },
  {
   "cell_type": "markdown",
   "metadata": {},
   "source": [
    "## Get `rowSums` of a DataFrame"
   ]
  },
  {
   "cell_type": "code",
   "execution_count": 125,
   "metadata": {},
   "outputs": [
    {
     "name": "stdout",
     "output_type": "stream",
     "text": [
      "shape: (3, 4)\n",
      "┌──────┬──────┬──────┬─────────┐\n",
      "│ col1 ┆ col2 ┆ col3 ┆ row_sum │\n",
      "│ ---  ┆ ---  ┆ ---  ┆ ---     │\n",
      "│ i64  ┆ i64  ┆ i64  ┆ i64     │\n",
      "╞══════╪══════╪══════╪═════════╡\n",
      "│ 1    ┆ 4    ┆ 7    ┆ 12      │\n",
      "│ 2    ┆ 5    ┆ 8    ┆ 15      │\n",
      "│ 3    ┆ 6    ┆ 9    ┆ 18      │\n",
      "└──────┴──────┴──────┴─────────┘\n"
     ]
    }
   ],
   "source": [
    "df = pl.DataFrame({\n",
    "    \"col1\": [1, 2, 3],\n",
    "    \"col2\": [4, 5, 6],\n",
    "    \"col3\": [7, 8, 9]\n",
    "})\n",
    "\n",
    "df = df.with_columns(df.select(pl.sum_horizontal(\"*\").alias(\"row_sum\")))\n",
    "df.with_columns(df.select(pl.sum_horizontal([\"col1\",\"col2\"]).alias(\"row_sum\")))\n",
    "\n",
    "print(df)"
   ]
  },
  {
   "cell_type": "markdown",
   "metadata": {},
   "source": [
    "## head and tail"
   ]
  },
  {
   "cell_type": "code",
   "execution_count": 126,
   "metadata": {},
   "outputs": [
    {
     "name": "stdout",
     "output_type": "stream",
     "text": [
      "shape: (3, 4)\n",
      "┌──────┬──────┬──────┬─────────┐\n",
      "│ col1 ┆ col2 ┆ col3 ┆ row_sum │\n",
      "│ ---  ┆ ---  ┆ ---  ┆ ---     │\n",
      "│ i64  ┆ i64  ┆ i64  ┆ i64     │\n",
      "╞══════╪══════╪══════╪═════════╡\n",
      "│ 1    ┆ 4    ┆ 7    ┆ 12      │\n",
      "│ 2    ┆ 5    ┆ 8    ┆ 15      │\n",
      "│ 3    ┆ 6    ┆ 9    ┆ 18      │\n",
      "└──────┴──────┴──────┴─────────┘\n",
      "shape: (2, 4)\n",
      "┌──────┬──────┬──────┬─────────┐\n",
      "│ col1 ┆ col2 ┆ col3 ┆ row_sum │\n",
      "│ ---  ┆ ---  ┆ ---  ┆ ---     │\n",
      "│ i64  ┆ i64  ┆ i64  ┆ i64     │\n",
      "╞══════╪══════╪══════╪═════════╡\n",
      "│ 1    ┆ 4    ┆ 7    ┆ 12      │\n",
      "│ 2    ┆ 5    ┆ 8    ┆ 15      │\n",
      "└──────┴──────┴──────┴─────────┘\n",
      "shape: (3, 4)\n",
      "┌──────┬──────┬──────┬─────────┐\n",
      "│ col1 ┆ col2 ┆ col3 ┆ row_sum │\n",
      "│ ---  ┆ ---  ┆ ---  ┆ ---     │\n",
      "│ i64  ┆ i64  ┆ i64  ┆ i64     │\n",
      "╞══════╪══════╪══════╪═════════╡\n",
      "│ 1    ┆ 4    ┆ 7    ┆ 12      │\n",
      "│ 2    ┆ 5    ┆ 8    ┆ 15      │\n",
      "│ 3    ┆ 6    ┆ 9    ┆ 18      │\n",
      "└──────┴──────┴──────┴─────────┘\n",
      "shape: (2, 4)\n",
      "┌──────┬──────┬──────┬─────────┐\n",
      "│ col1 ┆ col2 ┆ col3 ┆ row_sum │\n",
      "│ ---  ┆ ---  ┆ ---  ┆ ---     │\n",
      "│ i64  ┆ i64  ┆ i64  ┆ i64     │\n",
      "╞══════╪══════╪══════╪═════════╡\n",
      "│ 2    ┆ 5    ┆ 8    ┆ 15      │\n",
      "│ 3    ┆ 6    ┆ 9    ┆ 18      │\n",
      "└──────┴──────┴──────┴─────────┘\n"
     ]
    }
   ],
   "source": [
    "print(df.head())\n",
    "print(df.head(2))\n",
    "print(df.tail())\n",
    "print(df.tail(2))"
   ]
  },
  {
   "cell_type": "markdown",
   "metadata": {},
   "source": [
    "## Matrix-vector multiplication"
   ]
  },
  {
   "cell_type": "code",
   "execution_count": 127,
   "metadata": {},
   "outputs": [
    {
     "name": "stdout",
     "output_type": "stream",
     "text": [
      "[10  9  8 20]\n"
     ]
    }
   ],
   "source": [
    "import numpy as np\n",
    "\n",
    "a = pl.DataFrame({\n",
    "    \"col1\": [5,1,3,2],\n",
    "    \"col2\": [1,1,1,3],\n",
    "    \"col3\": [1,2,1,4]\n",
    "})\n",
    "\n",
    "b = [1, 2, 3]\n",
    "\n",
    "print(a.to_numpy().dot(b))"
   ]
  },
  {
   "cell_type": "code",
   "execution_count": null,
   "metadata": {},
   "outputs": [],
   "source": []
  }
 ],
 "metadata": {
  "kernelspec": {
   "display_name": "Python 3",
   "language": "python",
   "name": "python3"
  },
  "language_info": {
   "codemirror_mode": {
    "name": "ipython",
    "version": 3
   },
   "file_extension": ".py",
   "mimetype": "text/x-python",
   "name": "python",
   "nbconvert_exporter": "python",
   "pygments_lexer": "ipython3",
   "version": "3.8.10"
  }
 },
 "nbformat": 4,
 "nbformat_minor": 5
}
